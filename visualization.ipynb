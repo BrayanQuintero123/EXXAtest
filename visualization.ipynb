{
 "cells": [
  {
   "cell_type": "code",
   "execution_count": 1,
   "id": "b7040789",
   "metadata": {},
   "outputs": [],
   "source": [
    "import astropy\n",
    "from astropy.io import fits"
   ]
  },
  {
   "cell_type": "code",
   "execution_count": 3,
   "id": "1ebb58ba",
   "metadata": {},
   "outputs": [],
   "source": [
    "data_1  = fits.open(r\"C:\\Users\\opera\\OneDrive\\Documentos\\GitHub\\EXXAtest\\data\\planet0_00226_1250.fits\")"
   ]
  },
  {
   "cell_type": "code",
   "execution_count": null,
   "id": "c23e81d4",
   "metadata": {},
   "outputs": [
    {
     "data": {
      "text/plain": [
       "SIMPLE  =                    T / file does conform to FITS standard             \n",
       "BITPIX  =                  -32 / number of bits per data pixel                  \n",
       "NAXIS   =                    5 / number of data axes                            \n",
       "NAXIS1  =                  600 / length of data axis 1                          \n",
       "NAXIS2  =                  600 / length of data axis 2                          \n",
       "NAXIS3  =                    1 / length of data axis 3                          \n",
       "NAXIS4  =                    1 / length of data axis 4                          \n",
       "NAXIS5  =                    4 / length of data axis 5                          \n",
       "EXTEND  =                    T / FITS dataset may contain extensions            \n",
       "COMMENT   FITS (Flexible Image Transport System) format is defined in 'Astronomy\n",
       "COMMENT   and Astrophysics', volume 376, page 359; bibcode: 2001A&A...376..359H \n",
       "WAVE    =                1250. / wavelength [microns]                           \n",
       "CTYPE1  = 'RA---TAN'                                                            \n",
       "CRVAL1  =                   0. / RAD                                            \n",
       "CRPIX1  =                  301                                                  \n",
       "CDELT1  =         -1.40016E-06 / pixel scale x [deg]                            \n",
       "CUNIT1  = 'deg     '                                                            \n",
       "CTYPE2  = 'DEC--TAN'                                                            \n",
       "CRVAL2  =                   0. / DEC                                            \n",
       "CRPIX2  =                  301                                                  \n",
       "CDELT2  =          1.40016E-06 / pixel scale y [deg]                            \n",
       "CUNIT2  = 'deg     '                                                            \n",
       "BUNIT   = 'W.m-2.pixel-1'      / lambda.F_lambda                                \n",
       "FLUX_1  = 'I = total flux'                                                      \n",
       "FLUX_2  = 'Q       '                                                            \n",
       "FLUX_3  = 'U       '                                                            \n",
       "FLUX_4  = 'V       '                                                            "
      ]
     },
     "execution_count": 5,
     "metadata": {},
     "output_type": "execute_result"
    }
   ],
   "source": [
    "fit.info()"
   ]
  }
 ],
 "metadata": {
  "kernelspec": {
   "display_name": "exxa",
   "language": "python",
   "name": "python3"
  },
  "language_info": {
   "codemirror_mode": {
    "name": "ipython",
    "version": 3
   },
   "file_extension": ".py",
   "mimetype": "text/x-python",
   "name": "python",
   "nbconvert_exporter": "python",
   "pygments_lexer": "ipython3",
   "version": "3.12.1"
  }
 },
 "nbformat": 4,
 "nbformat_minor": 5
}
